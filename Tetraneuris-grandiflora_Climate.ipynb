{
 "cells": [
  {
   "cell_type": "markdown",
   "metadata": {
    "vscode": {
     "languageId": "plaintext"
    }
   },
   "source": [
    "## Climate Data\n"
   ]
  },
  {
   "cell_type": "markdown",
   "metadata": {},
   "source": [
    "Climate Data for this analysis was sourced from the Northwest Knowledge Multivariate Adaptice Consttucted (MACA) Datasets, version 4 (https://climate.northwestknowledge.net/MACA/index.php)\n",
    "\n",
    "The MACA datasets uses a statistical downscaling method which utilizes a training dataset (for example, a meteorological observation data) to remove historical biases and match spatial patterns in climate model output.  It contains information about the 4.5 and 8.5 Representative Concentration Pathways for different greenhouse gases emissions scenarios up to the year 2100 for variable such as temperature, precipitation, humidity, wind, and solar radiation, allowing for robust analysis for modeling future climate effects. \n",
    "\n",
    "> Source \n",
    ">\n",
    ">Climate forcings in the MACAv2-METDATA were drawn from a statistical downscaling of global climate model (GCM) data from the Coupled Model Intercomparison Project 5 (CMIP5, Taylor et al. 2010) utilizing a modification of the Multivariate Adaptive Constructed Analogs (MACA, Abatzoglou and Brown, 2012) method with the METDATA(Abatzoglou, 2011) observational dataset as training data. http://onlinelibrary.wiley.com/doi/10.1002/joc.2312/full\n"
   ]
  },
  {
   "cell_type": "code",
   "execution_count": 1,
   "metadata": {},
   "outputs": [],
   "source": [
    "# retrieve stored variables \n",
    "%store -r habitat_data_dir teton_gdf rmnp_gdf aoi_gdf"
   ]
  },
  {
   "cell_type": "code",
   "execution_count": 2,
   "metadata": {},
   "outputs": [],
   "source": [
    "#import libraries \n",
    "\n",
    "import os\n",
    "import pathlib\n",
    "from glob import glob\n",
    "\n",
    "import pandas as pd\n",
    "import earthaccess\n",
    "import geopandas as gpd\n",
    "import xrspatial\n",
    "import rioxarray as rxr\n",
    "import rioxarray.merge as rxrmerge\n",
    "import matplotlib.pyplot as plt\n",
    "import cartopy.crs as ccrs # CRSs\n",
    "import requests\n",
    "import xarray as xr"
   ]
  },
  {
   "cell_type": "code",
   "execution_count": 3,
   "metadata": {},
   "outputs": [],
   "source": [
    "# define functions \n",
    "def convert_longitude(longitude):\n",
    "    \"\"\"Convert longitude from range 0-360 to -180 to 180 \"\"\"\n",
    "    return (longitude-360) if longitude > 180 else longitude\n",
    "\n"
   ]
  },
  {
   "cell_type": "code",
   "execution_count": 4,
   "metadata": {},
   "outputs": [],
   "source": [
    "# Set required data directories \n",
    "climate_data_dir = os.path.join(habitat_data_dir,'climate')\n",
    "os.makedirs(climate_data_dir, exist_ok=True)"
   ]
  },
  {
   "cell_type": "code",
   "execution_count": 21,
   "metadata": {},
   "outputs": [
    {
     "name": "stdout",
     "output_type": "stream",
     "text": [
      "http://thredds.northwestknowledge.net:8080/thredds/dodsC/MACAV2/BNU-ESM/macav2metdata_tasmin_BNU-ESM_r1i1p1_rcp85_2006_2010_CONUS_monthly.nc\n",
      "http://thredds.northwestknowledge.net:8080/thredds/dodsC/MACAV2/BNU-ESM/macav2metdata_tasmin_BNU-ESM_r1i1p1_rcp85_2091_2095_CONUS_monthly.nc\n"
     ]
    },
    {
     "data": {
      "text/html": [
       "<div>\n",
       "<style scoped>\n",
       "    .dataframe tbody tr th:only-of-type {\n",
       "        vertical-align: middle;\n",
       "    }\n",
       "\n",
       "    .dataframe tbody tr th {\n",
       "        vertical-align: top;\n",
       "    }\n",
       "\n",
       "    .dataframe thead th {\n",
       "        text-align: right;\n",
       "    }\n",
       "</style>\n",
       "<table border=\"1\" class=\"dataframe\">\n",
       "  <thead>\n",
       "    <tr style=\"text-align: right;\">\n",
       "      <th></th>\n",
       "      <th>site_name</th>\n",
       "      <th>variable</th>\n",
       "      <th>start_year</th>\n",
       "      <th>da</th>\n",
       "    </tr>\n",
       "  </thead>\n",
       "  <tbody>\n",
       "    <tr>\n",
       "      <th>0</th>\n",
       "      <td>teton</td>\n",
       "      <td>tasmin</td>\n",
       "      <td>2006</td>\n",
       "      <td>[[[&lt;xarray.DataArray 'air_temperature' ()&gt; Siz...</td>\n",
       "    </tr>\n",
       "    <tr>\n",
       "      <th>1</th>\n",
       "      <td>teton</td>\n",
       "      <td>tasmin</td>\n",
       "      <td>2091</td>\n",
       "      <td>[[[&lt;xarray.DataArray 'air_temperature' ()&gt; Siz...</td>\n",
       "    </tr>\n",
       "  </tbody>\n",
       "</table>\n",
       "</div>"
      ],
      "text/plain": [
       "  site_name variable  start_year  \\\n",
       "0     teton   tasmin        2006   \n",
       "1     teton   tasmin        2091   \n",
       "\n",
       "                                                  da  \n",
       "0  [[[<xarray.DataArray 'air_temperature' ()> Siz...  \n",
       "1  [[[<xarray.DataArray 'air_temperature' ()> Siz...  "
      ]
     },
     "execution_count": 21,
     "metadata": {},
     "output_type": "execute_result"
    }
   ],
   "source": [
    "#format URL \n",
    "maca_da_list = []\n",
    "\n",
    "for site_name, site_gdf in {'teton': teton_gdf}.items():\n",
    "    for variable in ['tasmin']:\n",
    "        for start_year in [2006, 2091]:\n",
    "            end_year = start_year + 4\n",
    "            maca_url = (\n",
    "              'http://thredds.northwestknowledge.net:8080'\n",
    "              '/thredds/dodsC/MACAV2/BNU-ESM'\n",
    "              '/macav2metdata_'\n",
    "              #Varabable tasmin, daily average min temperature \n",
    "              f'{variable}_BNU-ESM_r1i1p1'\n",
    "              #climate scenario \n",
    "              '_rcp85'\n",
    "              #years, in 5 years chunks\n",
    "              f'_{start_year}_{end_year}'\n",
    "              #monthly or daily \n",
    "              '_CONUS_monthly'\n",
    "              #file format, need to open with xarray \n",
    "              '.nc'\n",
    "            )\n",
    "            print(maca_url)\n",
    "            #sees if file is downloaded already, if not goes to clip and trim file before saving it\n",
    "            filepath= os.path.join(climate_data_dir,f'{site_name}_{variable}_{start_year}_{end_year}.nc')\n",
    "            if not os.path.exists(filepath):\n",
    "                # set coordinates from 0-360 longitute to -180 to 180\n",
    "                maca_da = xr.open_dataset(maca_url, engine=\"netcdf4\").squeeze().air_temperature\n",
    "                maca_da = maca_da.assign_coords(\n",
    "                    lon =('lon', [convert_longitude(lon) for lon in maca_da.lon.values]))\n",
    "                #clip based on input gdf\n",
    "                bounds = site_gdf.to_crs(maca_da.rio.crs).total_bounds\n",
    "                maca_da = maca_da.rio.set_spatial_dims(x_dim='lon', y_dim='lat')\n",
    "                maca_da = maca_da.rio.clip_box(*bounds)\n",
    "                #save to file path \n",
    "                filepath= os.path.join(climate_data_dir,f'{site_name}_{variable}_{start_year}_{end_year}.nc')\n",
    "                maca_da.to_netcdf(filepath)\n",
    "            else:\n",
    "                maca_da = xr.open_dataset(filepath, engine=\"netcdf4\").squeeze().air_temperature\n",
    "            #append files \n",
    "            maca_da_list.append(dict(\n",
    "                site_name=site_name,\n",
    "                variable = variable,\n",
    "                start_year = start_year,\n",
    "                da=maca_da))\n",
    "\n",
    "pd.DataFrame(maca_da_list) \n"
   ]
  }
 ],
 "metadata": {
  "kernelspec": {
   "display_name": "earth-analytics-python",
   "language": "python",
   "name": "python3"
  },
  "language_info": {
   "codemirror_mode": {
    "name": "ipython",
    "version": 3
   },
   "file_extension": ".py",
   "mimetype": "text/x-python",
   "name": "python",
   "nbconvert_exporter": "python",
   "pygments_lexer": "ipython3",
   "version": "3.11.10"
  }
 },
 "nbformat": 4,
 "nbformat_minor": 2
}
